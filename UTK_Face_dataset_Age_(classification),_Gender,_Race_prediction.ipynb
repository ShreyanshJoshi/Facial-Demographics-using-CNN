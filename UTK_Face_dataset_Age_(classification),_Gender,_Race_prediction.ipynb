{
  "nbformat": 4,
  "nbformat_minor": 0,
  "metadata": {
    "colab": {
      "name": " UTK Face dataset - Age (classification), Gender, Race prediction",
      "provenance": [],
      "collapsed_sections": [],
      "authorship_tag": "ABX9TyPqFHQA1RMY5JGi2MKZWvMf",
      "include_colab_link": true
    },
    "kernelspec": {
      "name": "python3",
      "display_name": "Python 3"
    },
    "accelerator": "GPU"
  },
  "cells": [
    {
      "cell_type": "markdown",
      "metadata": {
        "id": "view-in-github",
        "colab_type": "text"
      },
      "source": [
        "<a href=\"https://colab.research.google.com/github/ShreyanshJoshi/Facial-Demographics-using-CNN/blob/master/UTK_Face_dataset_Age_(classification)%2C_Gender%2C_Race_prediction.ipynb\" target=\"_parent\"><img src=\"https://colab.research.google.com/assets/colab-badge.svg\" alt=\"Open In Colab\"/></a>"
      ]
    },
    {
      "cell_type": "code",
      "metadata": {
        "id": "Bwb7ZaKaB75a",
        "colab_type": "code",
        "outputId": "c44d575a-ff96-42f2-f25e-5c70417ecae4",
        "colab": {
          "base_uri": "https://localhost:8080/",
          "height": 121
        }
      },
      "source": [
        "from google.colab import drive\n",
        "drive.mount('/content/drive')"
      ],
      "execution_count": 0,
      "outputs": [
        {
          "output_type": "stream",
          "text": [
            "Go to this URL in a browser: https://accounts.google.com/o/oauth2/auth?client_id=947318989803-6bn6qk8qdgf4n4g3pfee6491hc0brc4i.apps.googleusercontent.com&redirect_uri=urn%3aietf%3awg%3aoauth%3a2.0%3aoob&response_type=code&scope=email%20https%3a%2f%2fwww.googleapis.com%2fauth%2fdocs.test%20https%3a%2f%2fwww.googleapis.com%2fauth%2fdrive%20https%3a%2f%2fwww.googleapis.com%2fauth%2fdrive.photos.readonly%20https%3a%2f%2fwww.googleapis.com%2fauth%2fpeopleapi.readonly\n",
            "\n",
            "Enter your authorization code:\n",
            "··········\n",
            "Mounted at /content/drive\n"
          ],
          "name": "stdout"
        }
      ]
    },
    {
      "cell_type": "code",
      "metadata": {
        "id": "g8n273iCB_MG",
        "colab_type": "code",
        "outputId": "9c8adcda-34df-4b6f-ad40-1df5201c1b6d",
        "colab": {
          "base_uri": "https://localhost:8080/",
          "height": 87
        }
      },
      "source": [
        "# Essential libraries\n",
        "import numpy as np \n",
        "import pandas as pd\n",
        "import os\n",
        "import glob\n",
        "import pandas as pd\n",
        "import matplotlib.pyplot as plt\n",
        "import seaborn as sns\n",
        "import scipy.io\n",
        "import pandas as pd\n",
        "import numpy as np\n",
        "import matplotlib.pyplot as plt\n",
        "from keras import applications,activations\n",
        "from keras.preprocessing.image import ImageDataGenerator,load_img,img_to_array\n",
        "from keras import optimizers,utils\n",
        "from keras.models import Sequential, Model \n",
        "from keras.layers import Dropout, Flatten, Dense, GlobalAveragePooling2D,BatchNormalization,ZeroPadding2D, Input\n",
        "from keras.layers import Conv2D, Activation,MaxPooling2D\n",
        "from keras import backend as k \n",
        "from keras.callbacks import ModelCheckpoint, LearningRateScheduler, TensorBoard, EarlyStopping"
      ],
      "execution_count": 0,
      "outputs": [
        {
          "output_type": "stream",
          "text": [
            "/usr/local/lib/python3.6/dist-packages/statsmodels/tools/_testing.py:19: FutureWarning: pandas.util.testing is deprecated. Use the functions in the public API at pandas.testing instead.\n",
            "  import pandas.util.testing as tm\n",
            "Using TensorFlow backend.\n"
          ],
          "name": "stderr"
        }
      ]
    },
    {
      "cell_type": "code",
      "metadata": {
        "id": "RZbxDjTNCFGo",
        "colab_type": "code",
        "colab": {}
      },
      "source": [
        "dataset_folder_name = '/content/drive/My Drive/Colab Notebooks/UTKFace'\n",
        "TRAIN_TEST_SPLIT = 0.8\n",
        "IM_WIDTH = IM_HEIGHT = 198\n",
        "\n",
        "dataset_dict = {\n",
        "    'race_id': {\n",
        "        0: 'white', \n",
        "        1: 'black', \n",
        "        2: 'asian', \n",
        "        3: 'indian', \n",
        "        4: 'others'\n",
        "    },\n",
        "    'gender_id': {\n",
        "        0: 'male',\n",
        "        1: 'female'\n",
        "    }\n",
        "}\n",
        "\n",
        "dataset_dict['gender_alias'] = dict((g, i) for i, g in dataset_dict['gender_id'].items())    # (Gender: id)\n",
        "dataset_dict['race_alias'] = dict((r, i) for i, r in dataset_dict['race_id'].items())        # (Race: id)"
      ],
      "execution_count": 0,
      "outputs": []
    },
    {
      "cell_type": "code",
      "metadata": {
        "id": "kXkn8umRCPuM",
        "colab_type": "code",
        "colab": {}
      },
      "source": [
        "# Let's also define a function to help us on extracting the data from our dataset. This function will be\n",
        "# used to iterate over each file of the UTK dataset and return a Pandas Dataframe containing all the\n",
        "# fields (age, gender and sex) of our records.\n",
        "\n",
        "def parse_dataset(dataset_path, ext='jpg'):\n",
        "    \"\"\"\n",
        "    Used to extract information about our dataset. It does iterate over all images and return a DataFrame\n",
        "     with the data (age, gender and sex) of all files.\n",
        "    \"\"\"\n",
        "    def parse_info_from_file(path):\n",
        "        \"\"\"\n",
        "        Parse information from a single file\n",
        "        \"\"\"\n",
        "        try:\n",
        "            filename = os.path.split(path)[1]\n",
        "            filename = os.path.splitext(filename)[0]\n",
        "            age, gender, race, _ = filename.split('_')\n",
        "\n",
        "            return int(age), dataset_dict['gender_id'][int(gender)], dataset_dict['race_id'][int(race)]\n",
        "        except Exception as ex:\n",
        "            return None, None, None\n",
        "        \n",
        "    files = glob.glob(os.path.join(dataset_path, \"*.%s\" % ext))\n",
        "    \n",
        "    records = []\n",
        "    for file in files:\n",
        "        info = parse_info_from_file(file)\n",
        "        records.append(info)\n",
        "        \n",
        "    df = pd.DataFrame(records)\n",
        "    df['file'] = files\n",
        "    df.columns = ['age', 'gender', 'race', 'file']\n",
        "    \n",
        "   \n",
        "    df = df.dropna()\n",
        "    \n",
        "    return df"
      ],
      "execution_count": 0,
      "outputs": []
    },
    {
      "cell_type": "code",
      "metadata": {
        "id": "ybscrdgBCWxr",
        "colab_type": "code",
        "outputId": "49c1f562-cdbd-44d5-f5cb-629c1e4e905a",
        "colab": {
          "base_uri": "https://localhost:8080/",
          "height": 195
        }
      },
      "source": [
        "df = parse_dataset(dataset_folder_name)\n",
        "df.head()\n",
        "\n",
        "# Now we have a pandas dataframe with us. This can be dealt with quite easily. Like, we simply now need \n",
        "# to OHE gender, race and feed it into model. Using Pandas dataframe also allows me to manipulate and \n",
        "# visualize data by plotting graphs."
      ],
      "execution_count": 0,
      "outputs": [
        {
          "output_type": "execute_result",
          "data": {
            "text/html": [
              "<div>\n",
              "<style scoped>\n",
              "    .dataframe tbody tr th:only-of-type {\n",
              "        vertical-align: middle;\n",
              "    }\n",
              "\n",
              "    .dataframe tbody tr th {\n",
              "        vertical-align: top;\n",
              "    }\n",
              "\n",
              "    .dataframe thead th {\n",
              "        text-align: right;\n",
              "    }\n",
              "</style>\n",
              "<table border=\"1\" class=\"dataframe\">\n",
              "  <thead>\n",
              "    <tr style=\"text-align: right;\">\n",
              "      <th></th>\n",
              "      <th>age</th>\n",
              "      <th>gender</th>\n",
              "      <th>race</th>\n",
              "      <th>file</th>\n",
              "    </tr>\n",
              "  </thead>\n",
              "  <tbody>\n",
              "    <tr>\n",
              "      <th>0</th>\n",
              "      <td>17.0</td>\n",
              "      <td>male</td>\n",
              "      <td>others</td>\n",
              "      <td>/content/drive/My Drive/Colab Notebooks/UTKFac...</td>\n",
              "    </tr>\n",
              "    <tr>\n",
              "      <th>1</th>\n",
              "      <td>17.0</td>\n",
              "      <td>female</td>\n",
              "      <td>white</td>\n",
              "      <td>/content/drive/My Drive/Colab Notebooks/UTKFac...</td>\n",
              "    </tr>\n",
              "    <tr>\n",
              "      <th>2</th>\n",
              "      <td>17.0</td>\n",
              "      <td>male</td>\n",
              "      <td>others</td>\n",
              "      <td>/content/drive/My Drive/Colab Notebooks/UTKFac...</td>\n",
              "    </tr>\n",
              "    <tr>\n",
              "      <th>3</th>\n",
              "      <td>17.0</td>\n",
              "      <td>female</td>\n",
              "      <td>white</td>\n",
              "      <td>/content/drive/My Drive/Colab Notebooks/UTKFac...</td>\n",
              "    </tr>\n",
              "    <tr>\n",
              "      <th>4</th>\n",
              "      <td>17.0</td>\n",
              "      <td>male</td>\n",
              "      <td>others</td>\n",
              "      <td>/content/drive/My Drive/Colab Notebooks/UTKFac...</td>\n",
              "    </tr>\n",
              "  </tbody>\n",
              "</table>\n",
              "</div>"
            ],
            "text/plain": [
              "    age  gender    race                                               file\n",
              "0  17.0    male  others  /content/drive/My Drive/Colab Notebooks/UTKFac...\n",
              "1  17.0  female   white  /content/drive/My Drive/Colab Notebooks/UTKFac...\n",
              "2  17.0    male  others  /content/drive/My Drive/Colab Notebooks/UTKFac...\n",
              "3  17.0  female   white  /content/drive/My Drive/Colab Notebooks/UTKFac...\n",
              "4  17.0    male  others  /content/drive/My Drive/Colab Notebooks/UTKFac..."
            ]
          },
          "metadata": {
            "tags": []
          },
          "execution_count": 11
        }
      ]
    },
    {
      "cell_type": "code",
      "metadata": {
        "id": "wZvdej6C6FuT",
        "colab_type": "code",
        "outputId": "a431d357-ef22-42ff-8869-afc18246edb3",
        "colab": {
          "base_uri": "https://localhost:8080/",
          "height": 195
        }
      },
      "source": [
        "df.tail()"
      ],
      "execution_count": 0,
      "outputs": [
        {
          "output_type": "execute_result",
          "data": {
            "text/html": [
              "<div>\n",
              "<style scoped>\n",
              "    .dataframe tbody tr th:only-of-type {\n",
              "        vertical-align: middle;\n",
              "    }\n",
              "\n",
              "    .dataframe tbody tr th {\n",
              "        vertical-align: top;\n",
              "    }\n",
              "\n",
              "    .dataframe thead th {\n",
              "        text-align: right;\n",
              "    }\n",
              "</style>\n",
              "<table border=\"1\" class=\"dataframe\">\n",
              "  <thead>\n",
              "    <tr style=\"text-align: right;\">\n",
              "      <th></th>\n",
              "      <th>age</th>\n",
              "      <th>gender</th>\n",
              "      <th>race</th>\n",
              "      <th>file</th>\n",
              "    </tr>\n",
              "  </thead>\n",
              "  <tbody>\n",
              "    <tr>\n",
              "      <th>23706</th>\n",
              "      <td>2.0</td>\n",
              "      <td>male</td>\n",
              "      <td>indian</td>\n",
              "      <td>/content/drive/My Drive/Colab Notebooks/UTKFac...</td>\n",
              "    </tr>\n",
              "    <tr>\n",
              "      <th>23707</th>\n",
              "      <td>1.0</td>\n",
              "      <td>female</td>\n",
              "      <td>indian</td>\n",
              "      <td>/content/drive/My Drive/Colab Notebooks/UTKFac...</td>\n",
              "    </tr>\n",
              "    <tr>\n",
              "      <th>23708</th>\n",
              "      <td>2.0</td>\n",
              "      <td>female</td>\n",
              "      <td>indian</td>\n",
              "      <td>/content/drive/My Drive/Colab Notebooks/UTKFac...</td>\n",
              "    </tr>\n",
              "    <tr>\n",
              "      <th>23709</th>\n",
              "      <td>1.0</td>\n",
              "      <td>female</td>\n",
              "      <td>indian</td>\n",
              "      <td>/content/drive/My Drive/Colab Notebooks/UTKFac...</td>\n",
              "    </tr>\n",
              "    <tr>\n",
              "      <th>23710</th>\n",
              "      <td>2.0</td>\n",
              "      <td>female</td>\n",
              "      <td>indian</td>\n",
              "      <td>/content/drive/My Drive/Colab Notebooks/UTKFac...</td>\n",
              "    </tr>\n",
              "  </tbody>\n",
              "</table>\n",
              "</div>"
            ],
            "text/plain": [
              "       age  gender    race                                               file\n",
              "23706  2.0    male  indian  /content/drive/My Drive/Colab Notebooks/UTKFac...\n",
              "23707  1.0  female  indian  /content/drive/My Drive/Colab Notebooks/UTKFac...\n",
              "23708  2.0  female  indian  /content/drive/My Drive/Colab Notebooks/UTKFac...\n",
              "23709  1.0  female  indian  /content/drive/My Drive/Colab Notebooks/UTKFac...\n",
              "23710  2.0  female  indian  /content/drive/My Drive/Colab Notebooks/UTKFac..."
            ]
          },
          "metadata": {
            "tags": []
          },
          "execution_count": 12
        }
      ]
    },
    {
      "cell_type": "code",
      "metadata": {
        "id": "K-d6Te5jCZAP",
        "colab_type": "code",
        "outputId": "2879a892-e0ce-4f9f-9555-493ad3771503",
        "colab": {
          "base_uri": "https://localhost:8080/",
          "height": 349
        }
      },
      "source": [
        "ages = df['age']\n",
        "nbins = 10\n",
        "plt.hist(ages,nbins,color='green',histtype='bar')\n",
        "\n",
        "# Majority population lies between 20-30 age group"
      ],
      "execution_count": 0,
      "outputs": [
        {
          "output_type": "execute_result",
          "data": {
            "text/plain": [
              "(array([3413., 2631., 9066., 3140., 2688., 1398.,  854.,  446.,   54.,\n",
              "          18.]),\n",
              " array([  1. ,  12.5,  24. ,  35.5,  47. ,  58.5,  70. ,  81.5,  93. ,\n",
              "        104.5, 116. ]),\n",
              " <a list of 10 Patch objects>)"
            ]
          },
          "metadata": {
            "tags": []
          },
          "execution_count": 9
        },
        {
          "output_type": "display_data",
          "data": {
            "image/png": "[encoded data removed]",
            "text/plain": [
              "<Figure size 432x288 with 1 Axes>"
            ]
          },
          "metadata": {
            "tags": [],
            "needs_background": "light"
          }
        }
      ]
    },
    {
      "cell_type": "code",
      "metadata": {
        "id": "_zqXUmzvCoY8",
        "colab_type": "code",
        "outputId": "628fd4f0-3e8c-435d-ce06-b9c61fb56400",
        "colab": {
          "base_uri": "https://localhost:8080/",
          "height": 338
        }
      },
      "source": [
        "x = (df.gender=='male').sum()\n",
        "y = (df.gender=='female').sum()\n",
        "gender = [x,y]\n",
        "labels = ['male','female']\n",
        "colors = [ 'y', 'g'] \n",
        "plt.pie(gender,labels = labels,colors = colors,radius=1.2)\n",
        "\n",
        "# Uniform distribution to a large extent. Although, males slightly exceed females in numbers"
      ],
      "execution_count": 0,
      "outputs": [
        {
          "output_type": "execute_result",
          "data": {
            "text/plain": [
              "([<matplotlib.patches.Wedge at 0x7f55af8b9978>,\n",
              "  <matplotlib.patches.Wedge at 0x7f55af8b9eb8>],\n",
              " [Text(-0.09437398906673042, 1.3166220225211307, 'male'),\n",
              "  Text(0.09437411233778002, -1.3166220136851945, 'female')])"
            ]
          },
          "metadata": {
            "tags": []
          },
          "execution_count": 10
        },
        {
          "output_type": "display_data",
          "data": {
            "image/png": "[encoded data removed]",
            "text/plain": [
              "<Figure size 432x288 with 1 Axes>"
            ]
          },
          "metadata": {
            "tags": []
          }
        }
      ]
    },
    {
      "cell_type": "code",
      "metadata": {
        "id": "F7VpVyjzf60k",
        "colab_type": "code",
        "outputId": "4e1e20e6-9e99-4a95-fb2e-a89974c0d7e0",
        "colab": {
          "base_uri": "https://localhost:8080/",
          "height": 427
        }
      },
      "source": [
        "x = (df.race=='white').sum()\n",
        "y = (df.race=='black').sum()\n",
        "z = (df.race=='asian').sum()\n",
        "a = (df.race=='indian').sum()\n",
        "b = (df.race=='others').sum()\n",
        "\n",
        "gender = [x,y,z,a,b]\n",
        "labels = ['white','black','asian','indian','others']\n",
        "colors = [ 'y', 'g','b','r','m'] \n",
        "plt.pie(gender,labels = labels,colors = colors,radius=1.2)"
      ],
      "execution_count": 0,
      "outputs": [
        {
          "output_type": "execute_result",
          "data": {
            "text/plain": [
              "([<matplotlib.patches.Wedge at 0x7f55af87dc88>,\n",
              "  <matplotlib.patches.Wedge at 0x7f55af88a208>,\n",
              "  <matplotlib.patches.Wedge at 0x7f55af88a710>,\n",
              "  <matplotlib.patches.Wedge at 0x7f55af88ac18>,\n",
              "  <matplotlib.patches.Wedge at 0x7f55af895160>],\n",
              " [Text(0.307280356144906, 1.2837362590218677, 'white'),\n",
              "  Text(-1.3088853498628525, -0.17093607259557106, 'black'),\n",
              "  Text(-0.4971320560784433, -1.222808128374693, 'asian'),\n",
              "  Text(0.7405722442839687, -1.0926814499185964, 'indian'),\n",
              "  Text(1.2869604383618487, -0.29348395201693445, 'others')])"
            ]
          },
          "metadata": {
            "tags": []
          },
          "execution_count": 11
        },
        {
          "output_type": "display_data",
          "data": {
            "image/png": "[encoded data removed]",
            "text/plain": [
              "<Figure size 432x288 with 1 Axes>"
            ]
          },
          "metadata": {
            "tags": []
          }
        }
      ]
    },
    {
      "cell_type": "code",
      "metadata": {
        "id": "mMwhlvZCEvfh",
        "colab_type": "code",
        "outputId": "69bba167-8561-43ca-9e53-b83e0d597f65",
        "colab": {
          "base_uri": "https://localhost:8080/",
          "height": 388
        }
      },
      "source": [
        "fig, (ax1, ax2) = plt.subplots(1, 2, figsize=(15, 6))\n",
        "_ = sns.boxplot(data=df, x='gender', y='age', ax=ax1)\n",
        "_ = sns.boxplot(data=df, x='race', y='age', ax=ax2)\n",
        "\n",
        "# We see that most of males are between 25 and 55, whereas most of the females are between 20 and 35\n",
        "# Even while grouping by race, we find good amount of variations in different races"
      ],
      "execution_count": 0,
      "outputs": [
        {
          "output_type": "display_data",
          "data": {
            "image/png": "[encoded data removed]",
            "text/plain": [
              "<Figure size 1080x432 with 2 Axes>"
            ]
          },
          "metadata": {
            "tags": [],
            "needs_background": "light"
          }
        }
      ]
    },
    {
      "cell_type": "code",
      "metadata": {
        "id": "V_84YjjP7bJL",
        "colab_type": "code",
        "colab": {}
      },
      "source": [
        "df['age'] = df['age']//25\n",
        "\n",
        "''' This basically makes 5 divisions in age-groups - \n",
        "1. 0-24\n",
        "2. 25-49\n",
        "3. 50-74\n",
        "4. 75-99\n",
        "5. 100-124 '''"
      ],
      "execution_count": 0,
      "outputs": []
    },
    {
      "cell_type": "code",
      "metadata": {
        "id": "jZdwi9g299yT",
        "colab_type": "code",
        "outputId": "7d104da6-e50d-4f9c-cc00-c303e452cf1f",
        "colab": {
          "base_uri": "https://localhost:8080/",
          "height": 34
        }
      },
      "source": [
        "x = (df.age==0).sum()\n",
        "y = (df.age==1).sum()\n",
        "z = (df.age==2).sum()\n",
        "a = (df.age==3).sum()\n",
        "b = (df.age==4).sum()\n",
        "\n",
        "print(x,' ',y,' ',z,' ',a,' ',b)\n"
      ],
      "execution_count": 0,
      "outputs": [
        {
          "output_type": "stream",
          "text": [
            "9924   9778   3182   824   0\n"
          ],
          "name": "stdout"
        }
      ]
    },
    {
      "cell_type": "code",
      "metadata": {
        "id": "WykEQKn9DYW-",
        "colab_type": "code",
        "outputId": "e4fa8619-824d-4802-9d4b-d8cfd45f9cb4",
        "colab": {
          "base_uri": "https://localhost:8080/",
          "height": 195
        }
      },
      "source": [
        "df.head()"
      ],
      "execution_count": 0,
      "outputs": [
        {
          "output_type": "execute_result",
          "data": {
            "text/html": [
              "<div>\n",
              "<style scoped>\n",
              "    .dataframe tbody tr th:only-of-type {\n",
              "        vertical-align: middle;\n",
              "    }\n",
              "\n",
              "    .dataframe tbody tr th {\n",
              "        vertical-align: top;\n",
              "    }\n",
              "\n",
              "    .dataframe thead th {\n",
              "        text-align: right;\n",
              "    }\n",
              "</style>\n",
              "<table border=\"1\" class=\"dataframe\">\n",
              "  <thead>\n",
              "    <tr style=\"text-align: right;\">\n",
              "      <th></th>\n",
              "      <th>age</th>\n",
              "      <th>gender</th>\n",
              "      <th>race</th>\n",
              "      <th>file</th>\n",
              "    </tr>\n",
              "  </thead>\n",
              "  <tbody>\n",
              "    <tr>\n",
              "      <th>0</th>\n",
              "      <td>0.0</td>\n",
              "      <td>male</td>\n",
              "      <td>others</td>\n",
              "      <td>/content/drive/My Drive/Colab Notebooks/UTKFac...</td>\n",
              "    </tr>\n",
              "    <tr>\n",
              "      <th>1</th>\n",
              "      <td>0.0</td>\n",
              "      <td>female</td>\n",
              "      <td>white</td>\n",
              "      <td>/content/drive/My Drive/Colab Notebooks/UTKFac...</td>\n",
              "    </tr>\n",
              "    <tr>\n",
              "      <th>2</th>\n",
              "      <td>0.0</td>\n",
              "      <td>male</td>\n",
              "      <td>others</td>\n",
              "      <td>/content/drive/My Drive/Colab Notebooks/UTKFac...</td>\n",
              "    </tr>\n",
              "    <tr>\n",
              "      <th>3</th>\n",
              "      <td>0.0</td>\n",
              "      <td>female</td>\n",
              "      <td>white</td>\n",
              "      <td>/content/drive/My Drive/Colab Notebooks/UTKFac...</td>\n",
              "    </tr>\n",
              "    <tr>\n",
              "      <th>4</th>\n",
              "      <td>0.0</td>\n",
              "      <td>male</td>\n",
              "      <td>others</td>\n",
              "      <td>/content/drive/My Drive/Colab Notebooks/UTKFac...</td>\n",
              "    </tr>\n",
              "  </tbody>\n",
              "</table>\n",
              "</div>"
            ],
            "text/plain": [
              "   age  gender    race                                               file\n",
              "0  0.0    male  others  /content/drive/My Drive/Colab Notebooks/UTKFac...\n",
              "1  0.0  female   white  /content/drive/My Drive/Colab Notebooks/UTKFac...\n",
              "2  0.0    male  others  /content/drive/My Drive/Colab Notebooks/UTKFac...\n",
              "3  0.0  female   white  /content/drive/My Drive/Colab Notebooks/UTKFac...\n",
              "4  0.0    male  others  /content/drive/My Drive/Colab Notebooks/UTKFac..."
            ]
          },
          "metadata": {
            "tags": []
          },
          "execution_count": 32
        }
      ]
    },
    {
      "cell_type": "markdown",
      "metadata": {
        "id": "fGjYC8YbiYOr",
        "colab_type": "text"
      },
      "source": [
        "## Data Generator\n",
        "In order to input our data to our Keras multi-output model, we have a helper object to work as a data generator for our dataset. This will be done by generating batches of data, which will be used to feed our multi-output model with both the images and their labels (instead of just loading all the dataset into the memory at once, which might lead to an out of memory error)."
      ]
    },
    {
      "cell_type": "code",
      "metadata": {
        "id": "3J7bRQ5EExV9",
        "colab_type": "code",
        "colab": {}
      },
      "source": [
        "from keras.utils import to_categorical\n",
        "from PIL import Image\n",
        "p = np.random.permutation(len(df))\n",
        "\n",
        "# Splitting into train and test sets - \n",
        "\n",
        "train_up_to = int(len(df) * TRAIN_TEST_SPLIT)      \n",
        "train_idx = p[:train_up_to]\n",
        "test_idx = p[train_up_to:]\n",
        "\n",
        " # Further splitting train set into train and validation set - \n",
        "\n",
        "train_up_to = int(train_up_to * TRAIN_TEST_SPLIT)      \n",
        "train_idx, valid_idx = train_idx[:train_up_to], train_idx[train_up_to:]\n",
        "\n",
        "# converts alias to id\n",
        "df['gender_id'] = df['gender'].map(lambda gender: dataset_dict['gender_alias'][gender])\n",
        "df['race_id'] = df['race'].map(lambda race: dataset_dict['race_alias'][race])\n",
        "\n",
        "# Now we got train_idx, valid_idx, test_idx\n",
        "            \n",
        "def preprocess_image(img_path):\n",
        "    \"\"\"\n",
        "    Used to perform some minor preprocessing on the image before inputting into the network.\n",
        "    \"\"\"\n",
        "    im = Image.open(img_path)\n",
        "    im = im.resize((IM_WIDTH, IM_HEIGHT))\n",
        "    im = np.array(im) / 255.0\n",
        "    \n",
        "    return im\n",
        "        \n",
        "def generate_images(image_idx, is_training, batch_size=16):\n",
        "    \"\"\"\n",
        "    Used to generate a batch with images when training/testing/validating our Keras model.\n",
        "    \"\"\"\n",
        "    \n",
        "    # arrays to store our batched data\n",
        "    images, ages, races, genders = [], [], [], []\n",
        "    while True:\n",
        "        for idx in image_idx:\n",
        "            person = df.iloc[idx]\n",
        "            \n",
        "            age = person['age']\n",
        "            race = person['race_id']\n",
        "            gender = person['gender_id']\n",
        "            file = person['file']\n",
        "            \n",
        "            im = preprocess_image(file)\n",
        "            \n",
        "            races.append(to_categorical(race, len(dataset_dict['race_id'])))\n",
        "            genders.append(to_categorical(gender, len(dataset_dict['gender_id'])))\n",
        "            ages.append(to_categorical(age,5))\n",
        "            images.append(im)\n",
        "            \n",
        "            # yielding condition\n",
        "            if len(images) >= batch_size:\n",
        "                yield np.array(images), [np.array(ages), np.array(races), np.array(genders)]\n",
        "                images, ages, races, genders = [], [], [], []\n",
        "                \n",
        "        if not is_training:\n",
        "            break\n",
        "            "
      ],
      "execution_count": 0,
      "outputs": []
    },
    {
      "cell_type": "code",
      "metadata": {
        "id": "sKw1rg2SE4og",
        "colab_type": "code",
        "colab": {}
      },
      "source": [
        "from keras.models import Model\n",
        "from keras.layers.normalization import BatchNormalization\n",
        "from keras.layers.convolutional import Conv2D\n",
        "from keras.layers.convolutional import MaxPooling2D\n",
        "from keras.layers.core import Activation\n",
        "from keras.layers.core import Dropout\n",
        "from keras.layers.core import Lambda\n",
        "from keras.layers.core import Dense\n",
        "from keras.layers import Flatten\n",
        "from keras.layers import Input\n",
        "import tensorflow as tf\n",
        "\n",
        "\"\"\"\n",
        "  Now we generate our multi-output model. This CNN contains three branches, one for age, other for \n",
        "sex and another for race. Each branch contains a sequence of Convolutional Layers that is defined\n",
        "on the make_default_hidden_layers method.\n",
        "\"\"\"\n",
        "def make_default_hidden_layers(inputs):\n",
        "    \"\"\"\n",
        "    Used to generate a default set of hidden layers. The structure used in this network is defined as:        \n",
        "    Conv2D -> BatchNormalization -> Pooling -> Dropout\n",
        "\n",
        "    Note that, generally number of filters increase with depth of network. So, have i done here.\n",
        "    \"\"\"\n",
        "    x = Conv2D(16, (3, 3), padding=\"same\")(inputs)\n",
        "    x = Activation(\"relu\")(x)\n",
        "    x = BatchNormalization(axis=-1)(x)\n",
        "    x = MaxPooling2D(pool_size=(3, 3))(x)\n",
        "\n",
        "    ''' It's always better not to regularize initial layers in a ConvNet as they learn the fundamentals\n",
        "     of images. So, regularizing them should be minimum, else they might not be able to learn important \n",
        "     features properly, which essentiallly could lead to underfitting. '''\n",
        "\n",
        "    x = Conv2D(32, (3, 3), padding=\"same\")(x)\n",
        "    x = Activation(\"relu\")(x)\n",
        "    x = BatchNormalization(axis=-1)(x)\n",
        "    x = MaxPooling2D(pool_size=(2, 2))(x)\n",
        "    x = Dropout(0.25)(x)\n",
        "\n",
        "    x = Conv2D(64, (3, 3), padding=\"same\")(x)\n",
        "    x = Activation(\"relu\")(x)\n",
        "    x = BatchNormalization(axis=-1)(x)\n",
        "    x = MaxPooling2D(pool_size=(2, 2))(x)\n",
        "    x = Dropout(0.25)(x)\n",
        "\n",
        "    return x\n",
        "\n",
        "# I found, race and age branch to learn slowly. Accuracy on training set was improving slowly. \n",
        "# 1 probable reason for this could be because of more number of classes to predict (in some sense,\n",
        "#  regressing over ages is equivalent to classifying in 100 classes). Hence I decided not to regularize\n",
        "#  these by using Dropout. \n",
        "\n",
        "def build_race_branch(inputs, num_races):\n",
        "    \"\"\"\n",
        "    Used to build the race branch of our face recognition network.\n",
        "    This branch is composed of three Conv -> BN -> Pool -> Dropout blocks, \n",
        "    followed by the Dense output layer.\n",
        "    \"\"\"\n",
        "    x = make_default_hidden_layers(inputs)\n",
        "\n",
        "    x = Flatten()(x)\n",
        "    x = Dense(128)(x)\n",
        "    x = Activation(\"relu\")(x)\n",
        "    x = BatchNormalization()(x)\n",
        "    x = Dense(64)(x)\n",
        "    x = Activation(\"relu\")(x)\n",
        "    x = BatchNormalization()(x)\n",
        "    x = Dense(32)(x)\n",
        "    x = Activation(\"relu\")(x)\n",
        "    x = BatchNormalization()(x)\n",
        "    x = Dense(num_races)(x)\n",
        "    x = Activation(\"softmax\", name=\"race_output\")(x)\n",
        "\n",
        "    return x\n",
        "\n",
        "def build_gender_branch(inputs, num_genders=2):\n",
        "    \"\"\"\n",
        "    Used to build the gender branch of our face recognition network.\n",
        "    This branch is composed of three Conv -> BN -> Pool -> Dropout blocks, \n",
        "    followed by the Dense output layer.\n",
        "    \"\"\"\n",
        "    x = Lambda(lambda c: tf.image.rgb_to_grayscale(c))(inputs)\n",
        "\n",
        "    x = make_default_hidden_layers(inputs)\n",
        "\n",
        "    x = Flatten()(x)\n",
        "    x = Dense(128)(x)\n",
        "    x = Activation(\"relu\")(x)\n",
        "    x = BatchNormalization()(x)\n",
        "    x = Dense(64)(x)\n",
        "    x = Activation(\"relu\")(x)\n",
        "    x = BatchNormalization()(x)\n",
        "    x = Dropout(0.35)(x)\n",
        "    x = Dense(num_genders)(x)\n",
        "    x = Activation(\"sigmoid\", name=\"gender_output\")(x)\n",
        "\n",
        "    return x\n",
        "\n",
        "def build_age_branch(inputs):   \n",
        "    \"\"\"\n",
        "    Used to build the age branch of our face recognition network.\n",
        "    This branch is composed of three Conv -> BN -> Pool -> Dropout blocks, \n",
        "    followed by the Dense output layer.\n",
        "\n",
        "    \"\"\"\n",
        "    x = make_default_hidden_layers(inputs)\n",
        "    x = Flatten()(x)\n",
        "    x = Dense(128)(x)\n",
        "    x = Activation(\"relu\")(x)\n",
        "    x = BatchNormalization()(x)\n",
        "    x = Dense(64)(x)\n",
        "    x = Activation(\"relu\")(x)\n",
        "    x = BatchNormalization()(x)\n",
        "    x = Dense(32)(x)\n",
        "    x = Activation(\"relu\")(x)\n",
        "    x = BatchNormalization()(x)\n",
        "    x = Dense(5)(x)\n",
        "    x = Activation(\"softmax\", name=\"age_output\")(x)  \n",
        "\n",
        "    return x\n",
        "\n",
        "    # Treating age prediction as a classification problem here.\n",
        "\n",
        "def assemble_full_model(width, height, num_races):\n",
        "    \"\"\"\n",
        "    Used to assemble our multi-output model CNN.\n",
        "    \"\"\"\n",
        "    input_shape = (height, width, 3)\n",
        "\n",
        "    inputs = Input(shape=input_shape)\n",
        "\n",
        "    age_branch = build_age_branch(inputs)\n",
        "    race_branch = build_race_branch(inputs, num_races)\n",
        "    gender_branch = build_gender_branch(inputs)\n",
        "\n",
        "    model = Model(inputs=inputs, outputs = [age_branch, race_branch, gender_branch], name=\"face_net\")\n",
        "\n",
        "    return model\n",
        "    \n",
        "model = assemble_full_model(IM_WIDTH, IM_HEIGHT, num_races=len(dataset_dict['race_alias']))"
      ],
      "execution_count": 0,
      "outputs": []
    },
    {
      "cell_type": "code",
      "metadata": {
        "id": "OIQZyf8eE7Mi",
        "colab_type": "code",
        "colab": {}
      },
      "source": [
        "# LR is perhaps most important hyperparameter to tune. High LR speeds up learning but at the \n",
        "# cost of instability, whereas, a low LR would take lot of time to progress\n",
        "\n",
        "init_lr = 8e-4          \n",
        "epochs = 20\n",
        "from keras.optimizers import Adam\n",
        "\n",
        "opt = Adam(lr=init_lr, decay=init_lr / epochs)\n",
        "\n",
        "model.compile(optimizer=opt, \n",
        "              loss={\n",
        "                  'age_output': 'categorical_crossentropy', \n",
        "                  'race_output': 'categorical_crossentropy', \n",
        "                  'gender_output': 'binary_crossentropy'},\n",
        "              metrics={\n",
        "                  'age_output': 'accuracy', \n",
        "                  'race_output': 'accuracy',\n",
        "                  'gender_output': 'accuracy'})"
      ],
      "execution_count": 0,
      "outputs": []
    },
    {
      "cell_type": "markdown",
      "metadata": {
        "id": "VYQNqWpwdOPG",
        "colab_type": "text"
      },
      "source": [
        "## Some key points to remember\n",
        "\n",
        "\n",
        "*   **ModelCheckpoint** - ModelCheckpoint callback is used in conjunction with training using model.fit() to save a model or weights (in a checkpoint file) at some interval, so the model or weights can be loaded later to continue the training from the state saved. This is very essential as DL models can take upto days to train. By default - it's NULL.\n",
        "\n",
        "    By keeping the filename constant throughout training, we ensure that only the best model weights remain in the file uptill the point we have trained.   \n",
        "To load weights - `model.load_weights(filepath)`\n",
        "\n",
        "---\n",
        "\n",
        "\n",
        "\n",
        "*  **Fit function** -  In the latest version of TF - 2.2.0v (released May 2020), the *fit* function has replaced the *fit_generator* function present before.\n",
        "\n",
        "---\n",
        "\n",
        "\n",
        "*  **Validation while training** - All the VALIDATION things, in the *fit* function are related to data on which to evaluate the loss and any model metrics at the end of each epoch. The model will not be trained on this data \n",
        "\n",
        "*   **Loss functions** ( `binary_crossentropy` vs `categorical_crossentropy`) -\n",
        "\n",
        "  -- For `binary_crossentropy`, sigmoid activation, scalar target\n",
        "\n",
        "  -- For `categorical_crossentropy`, softmax activation, one-hot encoded target\n",
        "\n",
        "\n",
        "\n",
        "\n",
        "\n",
        "\n",
        "\n"
      ]
    },
    {
      "cell_type": "code",
      "metadata": {
        "id": "LcvdNoFbFYmy",
        "colab_type": "code",
        "outputId": "d120dc6b-d98c-4e94-ba3e-f34c6311647b",
        "colab": {
          "base_uri": "https://localhost:8080/",
          "height": 709
        }
      },
      "source": [
        "from keras.callbacks import ModelCheckpoint\n",
        "\n",
        "batch_size = 16\n",
        "train_gen = generate_images(train_idx, is_training=True, batch_size=batch_size)\n",
        "''' Since, train_idx is too large to fit inside RAM at once, we generate batches of size 16 from it \n",
        "(called train_gen))'''\n",
        "\n",
        "# valid_batch_size = 32\n",
        "# valid_gen = data_generator.generate_images(valid_idx, is_training=True, batch_size=valid_batch_size)\n",
        "\n",
        "filepath = \"./model_checkpoint\"\n",
        "callbacks = [ ModelCheckpoint(filepath, monitor='val_loss') ]\n",
        " \n",
        "\n",
        "history = model.fit(train_gen, steps_per_epoch = 50, epochs=epochs, callbacks=callbacks )\n",
        "\n",
        "# Ideally, steps_per_epoch = (training size)//(batch size). For computational limitations, I took a \n",
        "# much smaller value, 50.\n"
      ],
      "execution_count": 0,
      "outputs": [
        {
          "output_type": "stream",
          "text": [
            "Epoch 1/20\n",
            "50/50 [==============================] - 15s 291ms/step - loss: 2.0559 - age_output_loss: 0.8708 - race_output_loss: 0.8091 - gender_output_loss: 0.3759 - age_output_accuracy: 0.6175 - race_output_accuracy: 0.7000 - gender_output_accuracy: 0.8250\n",
            "Epoch 2/20\n",
            "50/50 [==============================] - 10s 198ms/step - loss: 2.0695 - age_output_loss: 0.8934 - race_output_loss: 0.8094 - gender_output_loss: 0.3667 - age_output_accuracy: 0.6025 - race_output_accuracy: 0.7250 - gender_output_accuracy: 0.8425\n",
            "Epoch 3/20\n",
            "50/50 [==============================] - 10s 196ms/step - loss: 1.9328 - age_output_loss: 0.8298 - race_output_loss: 0.7891 - gender_output_loss: 0.3138 - age_output_accuracy: 0.6413 - race_output_accuracy: 0.7312 - gender_output_accuracy: 0.8544\n",
            "Epoch 4/20\n",
            "50/50 [==============================] - 10s 197ms/step - loss: 2.0093 - age_output_loss: 0.8938 - race_output_loss: 0.7875 - gender_output_loss: 0.3279 - age_output_accuracy: 0.5875 - race_output_accuracy: 0.7237 - gender_output_accuracy: 0.8537\n",
            "Epoch 5/20\n",
            "50/50 [==============================] - 10s 196ms/step - loss: 2.0949 - age_output_loss: 0.8874 - race_output_loss: 0.8626 - gender_output_loss: 0.3449 - age_output_accuracy: 0.5925 - race_output_accuracy: 0.7013 - gender_output_accuracy: 0.8575\n",
            "Epoch 6/20\n",
            "50/50 [==============================] - 10s 196ms/step - loss: 2.0301 - age_output_loss: 0.8886 - race_output_loss: 0.7990 - gender_output_loss: 0.3425 - age_output_accuracy: 0.5950 - race_output_accuracy: 0.7200 - gender_output_accuracy: 0.8519\n",
            "Epoch 7/20\n",
            "50/50 [==============================] - 10s 195ms/step - loss: 2.0601 - age_output_loss: 0.8961 - race_output_loss: 0.8223 - gender_output_loss: 0.3416 - age_output_accuracy: 0.5838 - race_output_accuracy: 0.7200 - gender_output_accuracy: 0.8531\n",
            "Epoch 8/20\n",
            "50/50 [==============================] - 10s 196ms/step - loss: 2.1387 - age_output_loss: 0.9233 - race_output_loss: 0.8058 - gender_output_loss: 0.4096 - age_output_accuracy: 0.5713 - race_output_accuracy: 0.7125 - gender_output_accuracy: 0.8219\n",
            "Epoch 9/20\n",
            "50/50 [==============================] - 10s 195ms/step - loss: 2.0032 - age_output_loss: 0.8645 - race_output_loss: 0.8022 - gender_output_loss: 0.3365 - age_output_accuracy: 0.6000 - race_output_accuracy: 0.7063 - gender_output_accuracy: 0.8331\n",
            "Epoch 10/20\n",
            "50/50 [==============================] - 10s 196ms/step - loss: 1.9961 - age_output_loss: 0.8487 - race_output_loss: 0.8225 - gender_output_loss: 0.3249 - age_output_accuracy: 0.6087 - race_output_accuracy: 0.7075 - gender_output_accuracy: 0.8594\n",
            "Epoch 11/20\n",
            "50/50 [==============================] - 10s 197ms/step - loss: 1.9525 - age_output_loss: 0.8349 - race_output_loss: 0.7689 - gender_output_loss: 0.3488 - age_output_accuracy: 0.6300 - race_output_accuracy: 0.7312 - gender_output_accuracy: 0.8469\n",
            "Epoch 12/20\n",
            "50/50 [==============================] - 10s 196ms/step - loss: 1.9253 - age_output_loss: 0.8255 - race_output_loss: 0.7835 - gender_output_loss: 0.3162 - age_output_accuracy: 0.6075 - race_output_accuracy: 0.7225 - gender_output_accuracy: 0.8581\n",
            "Epoch 13/20\n",
            "50/50 [==============================] - 10s 196ms/step - loss: 1.8703 - age_output_loss: 0.7800 - race_output_loss: 0.7529 - gender_output_loss: 0.3373 - age_output_accuracy: 0.6550 - race_output_accuracy: 0.7412 - gender_output_accuracy: 0.8500\n",
            "Epoch 14/20\n",
            "50/50 [==============================] - 10s 196ms/step - loss: 1.9120 - age_output_loss: 0.7980 - race_output_loss: 0.7730 - gender_output_loss: 0.3410 - age_output_accuracy: 0.6388 - race_output_accuracy: 0.7425 - gender_output_accuracy: 0.8419\n",
            "Epoch 15/20\n",
            "50/50 [==============================] - 10s 196ms/step - loss: 1.9467 - age_output_loss: 0.7819 - race_output_loss: 0.7877 - gender_output_loss: 0.3772 - age_output_accuracy: 0.6175 - race_output_accuracy: 0.7337 - gender_output_accuracy: 0.8400\n",
            "Epoch 16/20\n",
            "50/50 [==============================] - 10s 196ms/step - loss: 1.9996 - age_output_loss: 0.8361 - race_output_loss: 0.8675 - gender_output_loss: 0.2960 - age_output_accuracy: 0.6150 - race_output_accuracy: 0.7075 - gender_output_accuracy: 0.8700\n",
            "Epoch 17/20\n",
            "50/50 [==============================] - 392s 8s/step - loss: 1.9781 - age_output_loss: 0.8422 - race_output_loss: 0.7935 - gender_output_loss: 0.3424 - age_output_accuracy: 0.6050 - race_output_accuracy: 0.7163 - gender_output_accuracy: 0.8413\n",
            "Epoch 18/20\n",
            "50/50 [==============================] - 460s 9s/step - loss: 2.0407 - age_output_loss: 0.8552 - race_output_loss: 0.8247 - gender_output_loss: 0.3608 - age_output_accuracy: 0.5962 - race_output_accuracy: 0.7000 - gender_output_accuracy: 0.8469\n",
            "Epoch 19/20\n",
            "50/50 [==============================] - 440s 9s/step - loss: 2.0090 - age_output_loss: 0.8454 - race_output_loss: 0.8478 - gender_output_loss: 0.3158 - age_output_accuracy: 0.6050 - race_output_accuracy: 0.6950 - gender_output_accuracy: 0.8644\n",
            "Epoch 20/20\n",
            "50/50 [==============================] - 10s 196ms/step - loss: 1.8844 - age_output_loss: 0.7808 - race_output_loss: 0.7650 - gender_output_loss: 0.3386 - age_output_accuracy: 0.6675 - race_output_accuracy: 0.7063 - gender_output_accuracy: 0.8487\n"
          ],
          "name": "stdout"
        }
      ]
    },
    {
      "cell_type": "markdown",
      "metadata": {
        "id": "EAVzseAsxEND",
        "colab_type": "text"
      },
      "source": [
        "### Evaluating our model on the test set\n",
        "In order to assess how our model performs on the test set, let's use our UTK data generator class, but this time using the test indexes. We will then call the *predict_generator* method from our trained model, which will output our the predictions for the test set."
      ]
    },
    {
      "cell_type": "code",
      "metadata": {
        "id": "KD0A5cG2PhXb",
        "colab_type": "code",
        "colab": {}
      },
      "source": [
        "test_batch_size = 128\n",
        "test_generator = generate_images(test_idx, is_training=False, batch_size=test_batch_size)\n",
        "\n",
        "# Like training and validation set, we must feed test data in batches (insuffient RAM otherwise)\n",
        "\n",
        "age_pred, race_pred, gender_pred = model.predict_generator(test_generator,steps=len(test_idx)//test_batch_size)"
      ],
      "execution_count": 0,
      "outputs": []
    },
    {
      "cell_type": "code",
      "metadata": {
        "id": "wL6fThx1FbxG",
        "colab_type": "code",
        "outputId": "a15859b2-4b3f-43f3-ec82-3b721f35a79e",
        "colab": {
          "base_uri": "https://localhost:8080/",
          "height": 319
        }
      },
      "source": [
        "from keras.preprocessing import image\n",
        "from keras.preprocessing.image import ImageDataGenerator\n",
        " \n",
        "def loadImage(filepath):\n",
        "  test_img = image.load_img(filepath, target_size=(198, 198))\n",
        "  test_img = image.img_to_array(test_img)\n",
        "  test_img = np.expand_dims(test_img, axis = 0)\n",
        "  test_img /= 255\n",
        "  return test_img\n",
        "\n",
        "picture = \"/content/drive/My Drive/8.jpg\"                                     \n",
        "age_pred, race_pred, gender_pred = model.predict(loadImage(picture))\n",
        "img = image.load_img(picture)                        \n",
        "plt.imshow(img)\n",
        "plt.show()\n",
        "max=-1\n",
        "count=0\n",
        "for i in age_pred[0]:\n",
        "  if i>max:\n",
        "    max = i\n",
        "    temp = count\n",
        "  count+=1\n",
        "\n",
        "if temp==0:\n",
        "  print('0-24 yrs old')\n",
        "if temp==1:\n",
        "  print('25-49 yrs old')\n",
        "if temp==2:\n",
        "  print('50-74 yrs old')\n",
        "if temp==3:\n",
        "  print('75-99 yrs old')\n",
        "if temp==4:\n",
        "  print('91-124 yrs old')\n",
        "\n",
        "max=-1\n",
        "count=0\n",
        "for i in race_pred[0]:\n",
        "  if i>max:\n",
        "    max = i\n",
        "    temp = count\n",
        "  count+=1\n",
        "\n",
        "if temp==0:\n",
        "  print('White')\n",
        "if temp==1:\n",
        "  print('Black')\n",
        "if temp==2:\n",
        "  print('Asian')\n",
        "if temp==3:\n",
        "  print('Indian')\n",
        "if temp==4:\n",
        "  print('Other')\n",
        "\n",
        "if gender_pred[0][0]>gender_pred[0][1]:\n",
        "  print('Male')\n",
        "else:\n",
        "  print('Female')\n",
        "\n",
        "# print(age_pred[0],'\\n ', race_pred[0],'\\n ', gender_pred)"
      ],
      "execution_count": 0,
      "outputs": [
        {
          "output_type": "display_data",
          "data": {
            "image/png": "[encoded data removed]",
            "text/plain": [
              "<Figure size 432x288 with 1 Axes>"
            ]
          },
          "metadata": {
            "tags": [],
            "needs_background": "light"
          }
        },
        {
          "output_type": "stream",
          "text": [
            "25-49 yrs old\n",
            "White\n",
            "Female\n"
          ],
          "name": "stdout"
        }
      ]
    }
  ]
}